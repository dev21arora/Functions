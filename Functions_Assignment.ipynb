{
  "nbformat": 4,
  "nbformat_minor": 0,
  "metadata": {
    "colab": {
      "provenance": []
    },
    "kernelspec": {
      "name": "python3",
      "display_name": "Python 3"
    },
    "language_info": {
      "name": "python"
    }
  },
  "cells": [
    {
      "cell_type": "markdown",
      "source": [
        "#Functions-Assignment"
      ],
      "metadata": {
        "id": "Kaz9kwoN1alA"
      }
    },
    {
      "cell_type": "markdown",
      "source": [
        "#Theory Questions"
      ],
      "metadata": {
        "id": "cW2E_mYw1USK"
      }
    },
    {
      "cell_type": "markdown",
      "source": [
        "Q1-What is the difference between a function and a method in Python?\n",
        "\n",
        "Answer-Function is a block of code that perform a specific tasks and is defined using def keyword. It can exit independently. We use function to reduce the repetitive task by writing a long bunch of codes.\n",
        "Method is a fuction that is assosciated with an object and is called on that object. It's defined inside the class"
      ],
      "metadata": {
        "id": "nE16H25U1kKi"
      }
    },
    {
      "cell_type": "markdown",
      "source": [
        "Q2-Explain the concept of function arguments and parameters in Python.\n",
        "\n",
        "Answer-Parameters are the variables which are listed in the function definition while creating the function.\n",
        "eg, def sum(a,b): -> here a & b are the parameter\n",
        "Arguments are the values passed to the function when it is called to perform certain tasks.\n",
        "eg, sum(2,4) -> here 2 & 3 are the argument which is passed while performing certain task."
      ],
      "metadata": {
        "id": "biZg3lE01nLy"
      }
    },
    {
      "cell_type": "markdown",
      "source": [
        "Q3-What are the different ways to define and call a function in Python?\n",
        "\n",
        "Answer-To define the function is python there are ways like we can use \"def\" and \"lambda\".\n",
        "eg, def sum(a,b)\n",
        "eg, lambda sum: a+b\n",
        "To call the function we can use the function name followed by parantheses.\n",
        "eg, add(2,5)"
      ],
      "metadata": {
        "id": "WA_JChwv1nOt"
      }
    },
    {
      "cell_type": "markdown",
      "source": [
        "Q4-What is the purpose of the return statement in a Python function?\n",
        "\n",
        "Answer-We use the return function at the end to exit and return the value performed by the function to caller.\n",
        "def sum(a,b): return a+b"
      ],
      "metadata": {
        "id": "65xms3gJ1nRe"
      }
    },
    {
      "cell_type": "markdown",
      "source": [
        "Q5-What are iterators in Python and how do they differ from iterables?\n",
        "\n",
        "Answer- Iterators are the object with a next() menthod that retirn the next items.\n",
        "Iterables are the object capable of returning its members one at a time like lists, tuples."
      ],
      "metadata": {
        "id": "by7jUP_N1nT9"
      }
    },
    {
      "cell_type": "markdown",
      "source": [
        "Q6-Explain the concept of generators in Python and how they are defined.\n",
        "\n",
        "Answer-Generators are the functions that, instead of returning a single value and exiting, yield a sequence of values over time. The key characteristic of a generator is that it doesn't build a list of values in memory all at once. Instead, it generates them one by one, only when requested. This makes them incredibly memory-efficient for large sequences and allows for potentially infinite sequences. -def cnt(n): i = 1 i <= n: yield i i += 1"
      ],
      "metadata": {
        "id": "kn2Hg0XG1nWL"
      }
    },
    {
      "cell_type": "markdown",
      "source": [
        "Q7-What are the advantages of using generators over regular functions?\n",
        "\n",
        "Answer-Generators are a fundamental concept in Python for writing efficient, scalable, and elegant code when dealing with sequences of data, especially when those sequences are large, infinite, or part of a data processing pipeline. Iterators are also simple for creating."
      ],
      "metadata": {
        "id": "xPmexWTm1nYD"
      }
    },
    {
      "cell_type": "markdown",
      "source": [
        "Q8-What is a lambda function in Python and when is it typically used?\n",
        "\n",
        "Answer-Lambda functions are the small anonymous functions defined using the keyword lambda.\n",
        "When we have to use short functions we create lambda functions and these functions are oftenly used with map(), filter(), etc. functions. eg: square = lambda x: x * x square(4)"
      ],
      "metadata": {
        "id": "wrT4b6Ym1nbd"
      }
    },
    {
      "cell_type": "markdown",
      "source": [
        "Q9-Explain the purpose and usage of the map() function in Python.\n",
        "\n",
        "Answer-map() is a valuable tool in a Python for applying transformations across iterables efficiently and concisely, particularly useful when working with large datasets.\n",
        "eg: numbers = [1, 2, 3, 4, 5] squarenum = map(lambda x: x * x, numbers) print(list(squarenum))"
      ],
      "metadata": {
        "id": "0rZmc-lK1_Jp"
      }
    },
    {
      "cell_type": "markdown",
      "source": [
        "Q10-What is the difference between map(), reduce(), and filter() functions in Python?\n",
        "\n",
        "Answer-map(): Applies a function to each item in an iterable and returns a new iterable (map object) containing the results of the transformation.\n",
        "reduce(): Applies a function (that returns True or False) to each item in an iterable and returns a new iterable (filter object) containing only the items for which the function returned True.\n",
        "filter(): Applies a function (that takes two arguments) cumulatively to the items of an iterable to reduce the iterable to a single cumulative result."
      ],
      "metadata": {
        "id": "ygiY-ujW1_M-"
      }
    },
    {
      "cell_type": "markdown",
      "source": [
        "#Practical Questions"
      ],
      "metadata": {
        "id": "t3D_3jhw55bf"
      }
    },
    {
      "cell_type": "markdown",
      "source": [
        "Q1-Write a Python function that takes a list of numbers as input and returns the sum of all even numbers in the list."
      ],
      "metadata": {
        "id": "keTAOQT_6Gj0"
      }
    },
    {
      "cell_type": "code",
      "source": [
        "numbers=[34,5,2,4,10,9,3]\n",
        "def sumeven(numbers):\n",
        "    return sum(num for num in numbers if num % 2 == 0)\n",
        "\n",
        "sumeven(numbers)"
      ],
      "metadata": {
        "colab": {
          "base_uri": "https://localhost:8080/"
        },
        "id": "Hh3vKmR26j7v",
        "outputId": "2f70f3fb-1bcb-456d-805f-9a6c037a8a8f"
      },
      "execution_count": 2,
      "outputs": [
        {
          "output_type": "execute_result",
          "data": {
            "text/plain": [
              "50"
            ]
          },
          "metadata": {},
          "execution_count": 2
        }
      ]
    },
    {
      "cell_type": "markdown",
      "source": [
        "Q2- Create a Python function that accepts a string and returns the reverse of that string."
      ],
      "metadata": {
        "id": "K2oy_93r7ZDI"
      }
    },
    {
      "cell_type": "code",
      "source": [
        "userString=input('Enter the string: ')\n",
        "def revString(userString):\n",
        "  return userString[::-1]\n",
        "\n",
        "revString(userString)"
      ],
      "metadata": {
        "colab": {
          "base_uri": "https://localhost:8080/",
          "height": 53
        },
        "id": "RT8BxFWs7f8U",
        "outputId": "d5717cac-5ed7-442a-b1a5-0ec244f75362"
      },
      "execution_count": 3,
      "outputs": [
        {
          "name": "stdout",
          "output_type": "stream",
          "text": [
            "Enter the string: dev\n"
          ]
        },
        {
          "output_type": "execute_result",
          "data": {
            "text/plain": [
              "'ved'"
            ],
            "application/vnd.google.colaboratory.intrinsic+json": {
              "type": "string"
            }
          },
          "metadata": {},
          "execution_count": 3
        }
      ]
    },
    {
      "cell_type": "markdown",
      "source": [
        "Q3-Implement a Python function that takes a list of integers and returns a new list containing the squares of each number."
      ],
      "metadata": {
        "id": "MKCgYO8K7phj"
      }
    },
    {
      "cell_type": "code",
      "source": [
        "numList=[4,3,2,6,5,10]\n",
        "def numSqr(numList):\n",
        "  return [i ** 2 for i in numList]\n",
        "\n",
        "numSqr(numList)"
      ],
      "metadata": {
        "colab": {
          "base_uri": "https://localhost:8080/"
        },
        "id": "BMPkyaMS7kuX",
        "outputId": "be830bab-a0ab-41e2-81d5-9419b4b4f5f6"
      },
      "execution_count": 4,
      "outputs": [
        {
          "output_type": "execute_result",
          "data": {
            "text/plain": [
              "[16, 9, 4, 36, 25, 100]"
            ]
          },
          "metadata": {},
          "execution_count": 4
        }
      ]
    },
    {
      "cell_type": "markdown",
      "source": [
        "Q4-Write a Python function that checks if a given number is prime or not from 1 to 200."
      ],
      "metadata": {
        "id": "MkLfkbG-795r"
      }
    },
    {
      "cell_type": "code",
      "source": [
        "def isPrime(n):\n",
        "    if n < 2:\n",
        "        return False\n",
        "    for i in range(2, int(n**0.5) + 1):\n",
        "        if n % i == 0:\n",
        "            return 'No its not a prime number'\n",
        "    return 'Yes its Prime number'\n",
        "\n",
        "\n",
        "isPrime(84)"
      ],
      "metadata": {
        "colab": {
          "base_uri": "https://localhost:8080/",
          "height": 35
        },
        "id": "Pxz3K5uz77JS",
        "outputId": "3f818d3c-e33c-4d02-a15b-c12b4405beec"
      },
      "execution_count": 6,
      "outputs": [
        {
          "output_type": "execute_result",
          "data": {
            "text/plain": [
              "'No its not a prime number'"
            ],
            "application/vnd.google.colaboratory.intrinsic+json": {
              "type": "string"
            }
          },
          "metadata": {},
          "execution_count": 6
        }
      ]
    },
    {
      "cell_type": "markdown",
      "source": [
        "Q5-Create an iterator class in Python that generates the Fibonacci sequence up to a specified number of terms.\n"
      ],
      "metadata": {
        "id": "flpKFTa78UnU"
      }
    },
    {
      "cell_type": "code",
      "source": [
        "class FibonacciIterator:\n",
        "    def __init__(self, max_terms):\n",
        "        self.max_terms = max_terms\n",
        "        self.count = 0\n",
        "        self.a, self.b = 0, 1\n",
        "\n",
        "    def __iter__(self):\n",
        "        return self\n",
        "\n",
        "    def __next__(self):\n",
        "        if self.count >= self.max_terms:\n",
        "            raise StopIteration\n",
        "        value = self.a\n",
        "        self.a, self.b = self.b, self.a + self.b\n",
        "        self.count += 1\n",
        "        return value\n",
        "\n",
        "# Create an instance of the iterator\n",
        "fib = FibonacciIterator(15)\n",
        "\n",
        "# Iterate through the Fibonacci sequence\n",
        "for num in fib:\n",
        "    print(num)\n"
      ],
      "metadata": {
        "colab": {
          "base_uri": "https://localhost:8080/"
        },
        "id": "hj8Rcn1P8OK2",
        "outputId": "bf633e8d-1bb9-455c-a955-bfb69e86c08d"
      },
      "execution_count": 7,
      "outputs": [
        {
          "output_type": "stream",
          "name": "stdout",
          "text": [
            "0\n",
            "1\n",
            "1\n",
            "2\n",
            "3\n",
            "5\n",
            "8\n",
            "13\n",
            "21\n",
            "34\n",
            "55\n",
            "89\n",
            "144\n",
            "233\n",
            "377\n"
          ]
        }
      ]
    },
    {
      "cell_type": "markdown",
      "source": [
        "Q6-Write a generator function in Python that yields the powers of 2 up to a given exponent."
      ],
      "metadata": {
        "id": "eAU79XEp8vje"
      }
    },
    {
      "cell_type": "code",
      "source": [
        "def powers_of_two(max_exponent):\n",
        "    for i in range(max_exponent + 1):\n",
        "        yield 2 ** i\n",
        "\n",
        "\n",
        "for power in powers_of_two(5):\n",
        "    print(power)"
      ],
      "metadata": {
        "colab": {
          "base_uri": "https://localhost:8080/"
        },
        "id": "X_33c2iJ8qoN",
        "outputId": "f1671f43-7992-47f0-c65c-51257a80bd71"
      },
      "execution_count": 8,
      "outputs": [
        {
          "output_type": "stream",
          "name": "stdout",
          "text": [
            "1\n",
            "2\n",
            "4\n",
            "8\n",
            "16\n",
            "32\n"
          ]
        }
      ]
    },
    {
      "cell_type": "markdown",
      "source": [
        "Q7-Implement a generator function that reads a file line by line and yields each line as a string."
      ],
      "metadata": {
        "id": "KZJmOdfs9JFT"
      }
    },
    {
      "cell_type": "code",
      "source": [
        "def read_file_line_by_line(file_path):\n",
        "    with open(file_path, 'r') as file:\n",
        "        for line in file:\n",
        "            yield line.rstrip('\\n')\n",
        "\n",
        "# Example usage:\n",
        "# Assuming 'example.txt' exists in the same directory as your notebook\n",
        "# Create a dummy file for demonstration\n",
        "with open('example.txt', 'w') as f:\n",
        "    f.write('This is the first line.\\n')\n",
        "    f.write('This is the second line.\\n')\n",
        "    f.write('And this is the third line.')\n",
        "\n",
        "for line in read_file_line_by_line('example.txt'):\n",
        "    print(line)"
      ],
      "metadata": {
        "colab": {
          "base_uri": "https://localhost:8080/"
        },
        "id": "2DJ5216b85lY",
        "outputId": "a2f8cb83-46ea-4793-cb25-08b9c8672d60"
      },
      "execution_count": 14,
      "outputs": [
        {
          "output_type": "stream",
          "name": "stdout",
          "text": [
            "This is the first line.\n",
            "This is the second line.\n",
            "And this is the third line.\n"
          ]
        }
      ]
    },
    {
      "cell_type": "markdown",
      "source": [
        "Q8-Use a lambda function in Python to sort a list of tuples based on the second element of each tuple."
      ],
      "metadata": {
        "id": "rcD4o5xM9pLZ"
      }
    },
    {
      "cell_type": "code",
      "source": [
        "tuples = [(1, 3), (2, 1), (4, 2)]\n",
        "sorted_tuples = sorted(tuples, key=lambda x: x[1])\n",
        "\n",
        "print(sorted_tuples)"
      ],
      "metadata": {
        "colab": {
          "base_uri": "https://localhost:8080/"
        },
        "id": "g95FEOvo9LV3",
        "outputId": "b8a0b7b9-bffa-424f-9827-0c7d242183be"
      },
      "execution_count": 15,
      "outputs": [
        {
          "output_type": "stream",
          "name": "stdout",
          "text": [
            "[(2, 1), (4, 2), (1, 3)]\n"
          ]
        }
      ]
    },
    {
      "cell_type": "markdown",
      "source": [
        "Q9- Write a Python program that uses `map()` to convert a list of temperatures from Celsius to Fahrenheit."
      ],
      "metadata": {
        "id": "v2hy-GRv9zLP"
      }
    },
    {
      "cell_type": "code",
      "source": [
        "celsius = [0, 20, 37, 100]\n",
        "fahrenheit = list(map(lambda c: (c * 9/5) + 32, celsius))\n",
        "\n",
        "print(fahrenheit)"
      ],
      "metadata": {
        "colab": {
          "base_uri": "https://localhost:8080/"
        },
        "id": "DLPs89nn9yIv",
        "outputId": "c8824d32-8a4d-4afc-cae5-8b846c57321a"
      },
      "execution_count": 16,
      "outputs": [
        {
          "output_type": "stream",
          "name": "stdout",
          "text": [
            "[32.0, 68.0, 98.6, 212.0]\n"
          ]
        }
      ]
    },
    {
      "cell_type": "markdown",
      "source": [
        "Q10-Create a Python program that uses `filter()` to remove all the vowels from a given string."
      ],
      "metadata": {
        "id": "g3Y82xM0961l"
      }
    },
    {
      "cell_type": "code",
      "source": [
        "def remove_vowels(s):\n",
        "    return ''.join(filter(lambda x: x.lower() not in 'aeiou', s))\n",
        "\n",
        "# Example usage:\n",
        "result = remove_vowels(\"Hi my Name is Dev\")\n",
        "\n",
        "print(result)"
      ],
      "metadata": {
        "colab": {
          "base_uri": "https://localhost:8080/"
        },
        "id": "1JIQQbb395-T",
        "outputId": "2262349d-f8cd-4d23-ace3-d1a905a71548"
      },
      "execution_count": 18,
      "outputs": [
        {
          "output_type": "stream",
          "name": "stdout",
          "text": [
            "H my Nm s Dv\n"
          ]
        }
      ]
    },
    {
      "cell_type": "markdown",
      "source": [
        "Q11-Imagine an accounting routine used in a book shop. It works on a list with sublists, which look like this:\n",
        "orders =\n",
        "    [34587, \"Learning Python, Mark Lutz\", 4, 40.95],\n",
        "    [98762, \"Programming Python, Mark Lutz\", 5, 56.80],\n",
        "    [77226, \"Head First Python, Paul Barry\", 3, 32.95],\n",
        "    [88112, \"Einfuhrung in Python3, Bernd Klein\", 3, 24.99]"
      ],
      "metadata": {
        "id": "4bug5-9q-Lw5"
      }
    },
    {
      "cell_type": "code",
      "source": [
        "orders = [\n",
        "    [34587, \"Learning Python, Mark Lutz\", 4, 40.95],\n",
        "    [98762, \"Programming Python, Mark Lutz\", 5, 56.80],\n",
        "    [77226, \"Head First Python, Paul Barry\", 3, 32.95],\n",
        "    [88112, \"Einfuhrung in Python3, Bernd Klein\", 3, 24.99]\n",
        "]\n",
        "\n",
        "order_totals = list(map(lambda order:\n",
        "    (order[0], order[2] * order[3] + 10 if order[2] * order[3] < 100 else order[2] * order[3]), orders))\n",
        "\n",
        "print(order_totals)"
      ],
      "metadata": {
        "colab": {
          "base_uri": "https://localhost:8080/"
        },
        "id": "NrzX05DV-GQD",
        "outputId": "47a8f6e8-86c2-429a-c5c1-c3e91546b154"
      },
      "execution_count": 20,
      "outputs": [
        {
          "output_type": "stream",
          "name": "stdout",
          "text": [
            "[(34587, 163.8), (98762, 284.0), (77226, 108.85000000000001), (88112, 84.97)]\n"
          ]
        }
      ]
    },
    {
      "cell_type": "code",
      "source": [],
      "metadata": {
        "id": "-RF_7ex3-d4R"
      },
      "execution_count": null,
      "outputs": []
    }
  ]
}